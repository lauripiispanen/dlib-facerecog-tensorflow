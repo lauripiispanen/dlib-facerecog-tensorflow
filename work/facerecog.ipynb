{
 "cells": [
  {
   "cell_type": "code",
   "execution_count": 4,
   "metadata": {},
   "outputs": [
    {
     "name": "stdout",
     "output_type": "stream",
     "text": [
      "Extracting dataset...done!\n"
     ]
    }
   ],
   "source": [
    "import os\n",
    "import shutil\n",
    "import urllib.request\n",
    "import tarfile\n",
    "\n",
    "DATASET_URL = \"http://vis-www.cs.umass.edu/lfw/lfw.tgz\"\n",
    "DESTINATION_DIR = \"../data\"\n",
    "if not os.path.exists(os.path.join(DESTINATION_DIR, \"lfw/George_W_Bush\")):\n",
    "    if not os.path.exists(DESTINATION_DIR):\n",
    "        os.makedirs(DESTINATION_DIR)\n",
    "        print(\"Created destination directory for LFW dataset\")\n",
    "    \n",
    "    dest_file_name = os.path.join(DESTINATION_DIR, os.path.basename(DATASET_URL))\n",
    "    if not os.path.exists(dest_file_name):\n",
    "        print(\"Downloading dataset...\", end='')\n",
    "        with urllib.request.urlopen(DATASET_URL) as response, open(dest_file_name, 'wb') as out_file:\n",
    "            shutil.copyfileobj(response, out_file)\n",
    "            print(\".\", end='')\n",
    "        print(\"done!\")\n",
    "    \n",
    "    print(\"Extracting dataset...\", end='')\n",
    "    tarfile.open(dest_file_name, mode='r').extractall(path=DESTINATION_DIR)\n",
    "    print(\"done!\")"
   ]
  },
  {
   "cell_type": "code",
   "execution_count": null,
   "metadata": {},
   "outputs": [],
   "source": []
  }
 ],
 "metadata": {
  "kernelspec": {
   "display_name": "Python 3",
   "language": "python",
   "name": "python3"
  },
  "language_info": {
   "codemirror_mode": {
    "name": "ipython",
    "version": 3
   },
   "file_extension": ".py",
   "mimetype": "text/x-python",
   "name": "python",
   "nbconvert_exporter": "python",
   "pygments_lexer": "ipython3",
   "version": "3.6.3"
  }
 },
 "nbformat": 4,
 "nbformat_minor": 2
}
