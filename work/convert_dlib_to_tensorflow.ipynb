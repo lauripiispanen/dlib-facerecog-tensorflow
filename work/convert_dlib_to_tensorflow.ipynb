{
 "cells": [
  {
   "cell_type": "markdown",
   "metadata": {},
   "source": [
    "# Converting dlib face recognition resnet model to Tensorflow\n",
    "\n",
    "This notebook will aim to recreate dlib's face recognition model in Tensorflow. We will directly compare the results between dlib model and Tensorflow model to ensure that they work identically.\n",
    "\n",
    "Let's first load a bunch of images to test with."
   ]
  },
  {
   "cell_type": "code",
   "execution_count": null,
   "metadata": {},
   "outputs": [],
   "source": [
    "import glob\n",
    "import os\n",
    "from PIL import Image\n",
    "import numpy as np\n",
    "\n",
    "faces_folder_paths = [ \"George_HW_Bush\", \"Condoleezza_Rice\", \"Uma_Thurman\" ]\n",
    "files = list()\n",
    "for folder in faces_folder_paths:\n",
    "    files.extend(glob.glob(os.path.join(\"../data/lfw/\", folder, \"*.jpg\")))\n",
    "    \n",
    "def load_image_as_array(filename):\n",
    "    im = Image.open(filename)\n",
    "    arr = np.asarray(im)\n",
    "    arr.flags.writeable = True\n",
    "    return arr\n",
    "\n",
    "\n",
    "images = [ load_image_as_array(filename) for filename in files ]"
   ]
  },
  {
   "cell_type": "markdown",
   "metadata": {},
   "source": [
    "## Load dlib for comparison"
   ]
  },
  {
   "cell_type": "code",
   "execution_count": null,
   "metadata": {},
   "outputs": [],
   "source": [
    "import dlib\n",
    "\n",
    "predictor_path = \"../data/dlib/shape_predictor_68_face_landmarks.dat\"\n",
    "face_rec_model_path = \"../data/dlib/dlib_face_recognition_resnet_model_v1.dat\"\n",
    "\n",
    "detector = dlib.get_frontal_face_detector()\n",
    "sp = dlib.shape_predictor(predictor_path)\n",
    "facerec = dlib.face_recognition_model_v1(face_rec_model_path)"
   ]
  },
  {
   "cell_type": "code",
   "execution_count": null,
   "metadata": {},
   "outputs": [],
   "source": [
    "import matplotlib.pyplot as plt\n",
    "import matplotlib.patches as patches\n",
    "%matplotlib inline\n",
    "\n",
    "def dlib_detections_from_image(img):\n",
    "    detections = detector(img, 1)\n",
    "\n",
    "    return (img, detections)\n",
    "\n",
    "def detections_to_descriptors(img, detections):\n",
    "    return [ facerec.compute_face_descriptor(img, sp(img, d)) for d in detections ]\n",
    "\n",
    "dlib_detections = [ dlib_detections_from_image(img) for img in images ]\n",
    "dlib_descriptors = [ detections_to_descriptors(*t) for t in dlib_detections ]\n",
    "\n",
    "for dtc in dlib_detections:\n",
    "    img, detections = dtc\n",
    "    fig, ax = plt.subplots(1)\n",
    "    \n",
    "    ax.imshow(img)\n",
    "    for d in detections:\n",
    "        width = d.right() - d.left()\n",
    "        height = d.bottom() - d.top()\n",
    "        rect = patches.Rectangle((d.left(),d.top()),width,height,linewidth=1,edgecolor='r',facecolor='none')\n",
    "        ax.add_patch(rect)\n",
    "    print(\"Number of faces: {}\".format(len(detections)))\n",
    "    plt.axis('off')\n",
    "    plt.show()"
   ]
  },
  {
   "cell_type": "markdown",
   "metadata": {},
   "source": [
    "## Compare results to Tensorflow face descriptor model\n",
    "\n",
    "First, load the dlib model that is converted to XML."
   ]
  },
  {
   "cell_type": "code",
   "execution_count": null,
   "metadata": {},
   "outputs": [],
   "source": [
    "import xml.etree.ElementTree as ET\n",
    "tree = ET.parse('../data/dlib/dlib_face_recognition_resnet_model_v1.xml')\n",
    "root = tree.getroot()\n",
    "\n",
    "print(root.tag)\n",
    "\n",
    "for child in root:\n",
    "  print(child.tag, child.attrib)\n",
    "  for c in child:\n",
    "   print(c.tag, c.attrib)"
   ]
  },
  {
   "cell_type": "code",
   "execution_count": null,
   "metadata": {},
   "outputs": [],
   "source": []
  }
 ],
 "metadata": {
  "kernelspec": {
   "display_name": "Python 3",
   "language": "python",
   "name": "python3"
  },
  "language_info": {
   "codemirror_mode": {
    "name": "ipython",
    "version": 3
   },
   "file_extension": ".py",
   "mimetype": "text/x-python",
   "name": "python",
   "nbconvert_exporter": "python",
   "pygments_lexer": "ipython3",
   "version": "3.6.3"
  }
 },
 "nbformat": 4,
 "nbformat_minor": 2
}
